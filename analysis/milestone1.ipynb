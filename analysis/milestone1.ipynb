{
 "cells": [
  {
   "cell_type": "code",
   "execution_count": 7,
   "metadata": {},
   "outputs": [
    {
     "ename": "ImportError",
     "evalue": "attempted relative import with no known parent package",
     "output_type": "error",
     "traceback": [
      "\u001b[1;31m---------------------------------------------------------------------------\u001b[0m",
      "\u001b[1;31mImportError\u001b[0m                               Traceback (most recent call last)",
      "\u001b[1;32m<ipython-input-7-9276af341bff>\u001b[0m in \u001b[0;36m<module>\u001b[1;34m\u001b[0m\n\u001b[0;32m      3\u001b[0m \u001b[1;32mimport\u001b[0m \u001b[0mmatplotlib\u001b[0m\u001b[1;33m.\u001b[0m\u001b[0mpyplot\u001b[0m \u001b[1;32mas\u001b[0m \u001b[0mplt\u001b[0m\u001b[1;33m\u001b[0m\u001b[1;33m\u001b[0m\u001b[0m\n\u001b[0;32m      4\u001b[0m \u001b[1;32mimport\u001b[0m \u001b[0mseaborn\u001b[0m \u001b[1;32mas\u001b[0m \u001b[0msns\u001b[0m\u001b[1;33m\u001b[0m\u001b[1;33m\u001b[0m\u001b[0m\n\u001b[1;32m----> 5\u001b[1;33m \u001b[1;32mfrom\u001b[0m \u001b[1;33m.\u001b[0m\u001b[1;33m.\u001b[0m \u001b[1;32mimport\u001b[0m \u001b[0mmilestone2\u001b[0m\u001b[1;33m\u001b[0m\u001b[1;33m\u001b[0m\u001b[0m\n\u001b[0m",
      "\u001b[1;31mImportError\u001b[0m: attempted relative import with no known parent package"
     ]
    }
   ],
   "source": [
    "import pandas as pd\n",
    "import numpy as np\n",
    "import matplotlib.pyplot as plt\n",
    "import seaborn as sns"
   ]
  },
  {
   "cell_type": "code",
   "execution_count": 6,
   "metadata": {},
   "outputs": [
    {
     "name": "stdout",
     "output_type": "stream",
     "text": [
      "Total number of participants: 5836\n"
     ]
    },
    {
     "ename": "NameError",
     "evalue": "name 'milestone2' is not defined",
     "output_type": "error",
     "traceback": [
      "\u001b[1;31m---------------------------------------------------------------------------\u001b[0m",
      "\u001b[1;31mNameError\u001b[0m                                 Traceback (most recent call last)",
      "\u001b[1;32m<ipython-input-6-b89df4ce6d2f>\u001b[0m in \u001b[0;36m<module>\u001b[1;34m\u001b[0m\n\u001b[0;32m      3\u001b[0m \u001b[0mplt\u001b[0m\u001b[1;33m.\u001b[0m\u001b[0mrc\u001b[0m\u001b[1;33m(\u001b[0m\u001b[1;34m\"axes.spines\"\u001b[0m\u001b[1;33m,\u001b[0m \u001b[0mtop\u001b[0m\u001b[1;33m=\u001b[0m\u001b[1;32mFalse\u001b[0m\u001b[1;33m,\u001b[0m \u001b[0mright\u001b[0m\u001b[1;33m=\u001b[0m\u001b[1;32mFalse\u001b[0m\u001b[1;33m)\u001b[0m\u001b[1;33m\u001b[0m\u001b[1;33m\u001b[0m\u001b[0m\n\u001b[0;32m      4\u001b[0m \u001b[0mprint\u001b[0m\u001b[1;33m(\u001b[0m\u001b[1;34m'Total number of participants:'\u001b[0m\u001b[1;33m,\u001b[0m \u001b[0mdf\u001b[0m\u001b[1;33m.\u001b[0m\u001b[0mcount\u001b[0m\u001b[1;33m(\u001b[0m\u001b[1;33m)\u001b[0m\u001b[1;33m[\u001b[0m\u001b[1;36m0\u001b[0m\u001b[1;33m]\u001b[0m\u001b[1;33m)\u001b[0m\u001b[1;33m\u001b[0m\u001b[1;33m\u001b[0m\u001b[0m\n\u001b[1;32m----> 5\u001b[1;33m \u001b[0mdf8\u001b[0m \u001b[1;33m=\u001b[0m \u001b[0mmilestone2\u001b[0m\u001b[1;33m.\u001b[0m\u001b[0mundecided\u001b[0m\u001b[1;33m(\u001b[0m\u001b[1;33m)\u001b[0m\u001b[1;33m\u001b[0m\u001b[1;33m\u001b[0m\u001b[0m\n\u001b[0m\u001b[0;32m      6\u001b[0m \u001b[0mprint\u001b[0m\u001b[1;33m(\u001b[0m\u001b[1;34m'Number of undecided voters: {0}'\u001b[0m\u001b[1;33m.\u001b[0m\u001b[0mformat\u001b[0m\u001b[1;33m(\u001b[0m\u001b[0mlen\u001b[0m\u001b[1;33m(\u001b[0m\u001b[0mdf8\u001b[0m\u001b[1;33m)\u001b[0m\u001b[1;33m)\u001b[0m\u001b[1;33m)\u001b[0m\u001b[1;33m\u001b[0m\u001b[1;33m\u001b[0m\u001b[0m\n\u001b[0;32m      7\u001b[0m \u001b[1;33m\u001b[0m\u001b[0m\n",
      "\u001b[1;31mNameError\u001b[0m: name 'milestone2' is not defined"
     ]
    }
   ],
   "source": [
    "df = pd.read_csv('../data/raw/nonvoters_data.csv')\n",
    "sns.set_theme(style=\"ticks\", font_scale=1.2)\n",
    "plt.rc(\"axes.spines\", top=False, right=False)\n",
    "print('Total number of participants:', df.count()[0])\n",
    "print('Number of undecided voters: {0}'.format(len(df8)))\n",
    "\n",
    "\n",
    "boxplot = sns.countplot(y ='gender', data = df)\n",
    "boxplot.set_title('Participants by gender')\n",
    "boxplot.set_ylabel('Gender')\n",
    "boxplot.set_xlabel('Number of participants')\n",
    "plt.show()\n",
    "\n",
    "boxplot = sns.countplot(y ='race', data = df)\n",
    "boxplot.set_title('Participants by race')\n",
    "boxplot.set_ylabel('Race')\n",
    "boxplot.set_xlabel('Number of participants')\n",
    "plt.show()\n",
    "\n",
    "boxplot = sns.countplot(y ='educ', data = df)\n",
    "boxplot.set_title('Education level of participants')\n",
    "boxplot.set_ylabel('Education level')\n",
    "boxplot.set_xlabel('Number of participants')\n",
    "plt.show()\n",
    "\n",
    "boxplot = sns.countplot(y ='income_cat', data = df, order = df['income_cat'].value_counts().index)\n",
    "boxplot.set_title('Income Categories of Participants')\n",
    "boxplot.set_ylabel('Income categories')\n",
    "boxplot.set_xlabel('Number of Participants')\n",
    "\n",
    "df2 = df[df[\"Q33\"] == 2]\n",
    "boxplot = sns.countplot(y ='voter_category', data = df2)\n",
    "boxplot.set_title('How likely democrates are to vote')\n",
    "boxplot.set_ylabel('Voting habits')\n",
    "boxplot.set_xlabel('Number of participants')\n",
    "plt.show()\n",
    "\n",
    "df3 = df[df[\"Q33\"] == 1]\n",
    "boxplot = sns.countplot(y ='voter_category', data = df3)\n",
    "boxplot.set_title('How likely republicans are to vote')\n",
    "boxplot.set_ylabel('Voting habits')\n",
    "boxplot.set_xlabel('Number of participants')\n",
    "plt.show()\n",
    "\n",
    "df4 = df[(df[\"Q33\"] == 1) & (df[\"Q33\"] == 2)]\n",
    "print('The number of republican planning to vote for Joe Biden is: {0}'.format(len(df4)))\n",
    "df5 = df[(df[\"Q33\"] == 2) & (df[\"Q33\"] == 1)]\n",
    "print('The number of democrate planning to vote for Donald Trump is: {0}'.format(len(df4)))\n",
    "\n",
    "df6 = df[(df[\"Q33\"] == 2)]\n",
    "boxplot = sns.countplot(y ='Q24', data = df6)\n",
    "boxplot.set_title('How democrates planned to vote in the 2020 election')\n",
    "boxplot.set_ylabel('Voting options')\n",
    "boxplot.set_xlabel('Number of participants')\n",
    "plt.show()\n",
    "\n",
    "df7 = df[(df[\"Q33\"] == 1)]\n",
    "boxplot = sns.countplot(y ='Q24', data = df7)\n",
    "boxplot.set_title('How republicans planned to vote in the 2020 election')\n",
    "boxplot.set_ylabel('Voting options')\n",
    "boxplot.set_xlabel('Number of participants')\n",
    "plt.show()\n",
    "\n",
    "\n",
    "\n",
    "df9 = df[(df[\"Q23\"] == 3) & (df[\"Q22\"] == 6)]\n",
    "print('Number of undecided voters who beleive their vote do not matter: {0}'.format(len(df9)))\n",
    "df10 = df[(df[\"Q23\"] == 3) & (df[\"Q22\"] == 2)]\n",
    "print('Number of undecided voters who beleive the political system does not serve their needs: {0}'.format(len(df10)))\n",
    "\n",
    "df10 = df[(df[\"Q20\"] == 2) & (df[\"Q21\"] == 1)]\n",
    "print('Number of voters who plan to vote but had not registered at the time of the survey: {0}'.format(len(df10)))\n",
    "\n",
    "\n",
    "\n"
   ]
  },
  {
   "cell_type": "code",
   "execution_count": null,
   "metadata": {},
   "outputs": [],
   "source": []
  },
  {
   "cell_type": "code",
   "execution_count": null,
   "metadata": {},
   "outputs": [],
   "source": []
  }
 ],
 "metadata": {
  "kernelspec": {
   "display_name": "Python 3",
   "language": "python",
   "name": "python3"
  },
  "language_info": {
   "codemirror_mode": {
    "name": "ipython",
    "version": 3
   },
   "file_extension": ".py",
   "mimetype": "text/x-python",
   "name": "python",
   "nbconvert_exporter": "python",
   "pygments_lexer": "ipython3",
   "version": "3.8.3"
  }
 },
 "nbformat": 4,
 "nbformat_minor": 4
}
