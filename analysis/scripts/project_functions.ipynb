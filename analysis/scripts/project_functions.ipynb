{
 "cells": [
  {
   "cell_type": "code",
   "execution_count": 1,
   "metadata": {},
   "outputs": [],
   "source": [
    "import pandas as pd\n",
    "import numpy as np\n",
    "import matplotlib.pyplot as plt\n",
    "import seaborn as sns"
   ]
  },
  {
   "cell_type": "code",
   "execution_count": 2,
   "metadata": {},
   "outputs": [
    {
     "ename": "SyntaxError",
     "evalue": "invalid syntax (<ipython-input-2-56e7dc925da7>, line 5)",
     "output_type": "error",
     "traceback": [
      "\u001b[1;36m  File \u001b[1;32m\"<ipython-input-2-56e7dc925da7>\"\u001b[1;36m, line \u001b[1;32m5\u001b[0m\n\u001b[1;33m    df = pd.read_csv('../data/raw/nonvoters_data.csv')\u001b[0m\n\u001b[1;37m       ^\u001b[0m\n\u001b[1;31mSyntaxError\u001b[0m\u001b[1;31m:\u001b[0m invalid syntax\n"
     ]
    }
   ],
   "source": [
    "def load_and_process(url_or_path_to_csv_file):\n",
    "    \n",
    "    ###loads data\n",
    "    df1 = (\n",
    "        df = pd.read_csv('../data/raw/nonvoters_data.csv')\n",
    "        sns.set_theme(style=\"ticks\", font_scale=1.2)\n",
    "        plt.rc(\"axes.spines\", top=False, right=False)\n",
    "    )\n",
    "    \n",
    "     ###Clean data\n",
    "     df2 = (\n",
    "        .dropna()\n",
    "         ###this column was used for article purposes from the providers of the original dataset\n",
    "        .drop('weights', axis='columns', inplace=True)\n",
    "         ###this question is about what it means to be an american, it is not relevant to our question\n",
    "        .drop(['Q2_1', 'Q2_2', 'Q2_3', 'Q2_4', 'Q2_5', 'Q2_6', 'Q2_7', 'Q2_8', 'Q2_9', 'Q2_10'], axis='columns', inplace=True)\n",
    "         ###This question is about what people value in this election, it is not relevant to our data\n",
    "        .drop(['Q3_1', 'Q3_2', 'Q3_3', 'Q3_4', 'Q3_5', 'Q3_6'], axis='columns', inplace=True)\n",
    "         ###This question is about regional elections not national elections it is also irrelevant to our data\n",
    "        .drop(['Q4_1', 'Q4_2', 'Q4_3', 'Q4_4', 'Q4_5', 'Q4_6'], axis='columns', inplace=True)\n",
    "         \n",
    "         \n",
    "    )\n",
    "    \n",
    "    ###Makes data more readable\n",
    "    df3 = (   \n",
    "        pd.DataFrame(data.data,columns=data.feature_names)\n",
    "        .rename(columns={\"respid\": \"id\"})\n",
    "        .rename(columns={\"income_cat\": \"i_c\"})\n",
    "        .rename(columns={\"voter_category\": \"v_c\"})\n",
    "        ### highlights people who do not plan on voting or are unsure if they will vote\n",
    "        .assign(color_filter=lambda x: np.where((x.Q21 == 2) & (x.Q21 == 3), 1, 0))\n",
    "        ### respondants are not actually sorted by id in the original data\n",
    "        .sort_values(\"id\", ascending=False)\n",
    "        .reset_index(drop=True)\n",
    "    )"
   ]
  }
 ],
 "metadata": {
  "kernelspec": {
   "display_name": "Python 3",
   "language": "python",
   "name": "python3"
  },
  "language_info": {
   "codemirror_mode": {
    "name": "ipython",
    "version": 3
   },
   "file_extension": ".py",
   "mimetype": "text/x-python",
   "name": "python",
   "nbconvert_exporter": "python",
   "pygments_lexer": "ipython3",
   "version": "3.8.3"
  }
 },
 "nbformat": 4,
 "nbformat_minor": 4
}
